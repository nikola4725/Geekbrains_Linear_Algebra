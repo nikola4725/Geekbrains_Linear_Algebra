{
 "cells": [
  {
   "cell_type": "markdown",
   "metadata": {},
   "source": [
    "## Урок 5. Сингулярное разложение матриц"
   ]
  },
  {
   "cell_type": "code",
   "execution_count": 1,
   "metadata": {},
   "outputs": [],
   "source": [
    "import numpy as np"
   ]
  },
  {
   "cell_type": "markdown",
   "metadata": {},
   "source": [
    "#### 1. Найти с помощью NumPy SVD для матрицы"
   ]
  },
  {
   "cell_type": "code",
   "execution_count": 2,
   "metadata": {},
   "outputs": [
    {
     "name": "stdout",
     "output_type": "stream",
     "text": [
      "Матрица A:\n",
      "[[ 1  2  0]\n",
      " [ 0  0  5]\n",
      " [ 3 -4  2]\n",
      " [ 1  6  5]\n",
      " [ 0  1  0]]\n"
     ]
    }
   ],
   "source": [
    "A = np.array([[1, 2, 0],\n",
    "              [0, 0, 5],\n",
    "              [3, -4, 2],\n",
    "              [1, 6, 5],\n",
    "              [0, 1, 0]])\n",
    "print(f'Матрица A:\\n{A}')"
   ]
  },
  {
   "cell_type": "code",
   "execution_count": 3,
   "metadata": {},
   "outputs": [],
   "source": [
    "U, s, W = np.linalg.svd(A)"
   ]
  },
  {
   "cell_type": "code",
   "execution_count": 4,
   "metadata": {},
   "outputs": [
    {
     "name": "stdout",
     "output_type": "stream",
     "text": [
      "Матрица D:\n",
      "[[8.82486885 0.         0.        ]\n",
      " [0.         6.14060608 0.        ]\n",
      " [0.         0.         2.53271528]\n",
      " [0.         0.         0.        ]\n",
      " [0.         0.         0.        ]]\n"
     ]
    }
   ],
   "source": [
    "D = np.zeros_like(A, dtype=float)\n",
    "D[np.diag_indices(min(A.shape))] = s\n",
    "print(f'Матрица D:\\n{D}')"
   ]
  },
  {
   "cell_type": "code",
   "execution_count": 5,
   "metadata": {},
   "outputs": [
    {
     "name": "stdout",
     "output_type": "stream",
     "text": [
      "Матрица U:\n",
      "[[ 0.17056501  0.15680918 -0.53077508 -0.79905375 -0.16158397]\n",
      " [ 0.39287016 -0.52933945  0.6134793  -0.43375771  0.03082495]\n",
      " [-0.14366152 -0.82449256 -0.52379105  0.14049848  0.07400343]\n",
      " [ 0.88843702  0.06074346 -0.24655277  0.37755832 -0.06042632]\n",
      " [ 0.08125046  0.10831843 -0.08231425 -0.10524851  0.98173958]]\n"
     ]
    }
   ],
   "source": [
    "print(f'Матрица U:\\n{U}')"
   ]
  },
  {
   "cell_type": "code",
   "execution_count": 6,
   "metadata": {},
   "outputs": [
    {
     "name": "stdout",
     "output_type": "stream",
     "text": [
      "Матрица V:\n",
      "[[ 0.07116451 -0.36737824 -0.92734505]\n",
      " [ 0.71702467  0.66514082 -0.20847855]\n",
      " [ 0.69340553 -0.65009301  0.31075368]]\n"
     ]
    }
   ],
   "source": [
    "V = W.T\n",
    "print(f'Матрица V:\\n{V}')"
   ]
  },
  {
   "cell_type": "markdown",
   "metadata": {},
   "source": [
    "#### 2. Для матрицы из предыдущего задания найти:\n",
    "\n",
    "а) евклидову норму;\n",
    "\n",
    "б) норму Фробениуса."
   ]
  },
  {
   "cell_type": "code",
   "execution_count": 7,
   "metadata": {},
   "outputs": [
    {
     "name": "stdout",
     "output_type": "stream",
     "text": [
      "евклидова норма: 8.824868854820442\n"
     ]
    }
   ],
   "source": [
    "print(f'евклидова норма: {np.linalg.norm(A, ord=2)}')"
   ]
  },
  {
   "cell_type": "code",
   "execution_count": 8,
   "metadata": {},
   "outputs": [
    {
     "name": "stdout",
     "output_type": "stream",
     "text": [
      "норма Фробениуса: 11.045361017187261\n"
     ]
    }
   ],
   "source": [
    "print(f'норма Фробениуса: {np.linalg.norm(A)}')"
   ]
  },
  {
   "cell_type": "markdown",
   "metadata": {},
   "source": [
    "#### 3. Понизить размерность признакового пространства"
   ]
  },
  {
   "cell_type": "code",
   "execution_count": 9,
   "metadata": {},
   "outputs": [],
   "source": [
    "from sklearn.datasets import load_iris\n",
    "import pandas as pd"
   ]
  },
  {
   "cell_type": "code",
   "execution_count": 10,
   "metadata": {},
   "outputs": [],
   "source": [
    "iris = load_iris()"
   ]
  },
  {
   "cell_type": "code",
   "execution_count": 11,
   "metadata": {},
   "outputs": [
    {
     "data": {
      "text/html": [
       "<div>\n",
       "<style scoped>\n",
       "    .dataframe tbody tr th:only-of-type {\n",
       "        vertical-align: middle;\n",
       "    }\n",
       "\n",
       "    .dataframe tbody tr th {\n",
       "        vertical-align: top;\n",
       "    }\n",
       "\n",
       "    .dataframe thead th {\n",
       "        text-align: right;\n",
       "    }\n",
       "</style>\n",
       "<table border=\"1\" class=\"dataframe\">\n",
       "  <thead>\n",
       "    <tr style=\"text-align: right;\">\n",
       "      <th></th>\n",
       "      <th>sepal length (cm)</th>\n",
       "      <th>sepal width (cm)</th>\n",
       "      <th>petal length (cm)</th>\n",
       "      <th>petal width (cm)</th>\n",
       "    </tr>\n",
       "  </thead>\n",
       "  <tbody>\n",
       "    <tr>\n",
       "      <th>0</th>\n",
       "      <td>5.1</td>\n",
       "      <td>3.5</td>\n",
       "      <td>1.4</td>\n",
       "      <td>0.2</td>\n",
       "    </tr>\n",
       "    <tr>\n",
       "      <th>1</th>\n",
       "      <td>4.9</td>\n",
       "      <td>3.0</td>\n",
       "      <td>1.4</td>\n",
       "      <td>0.2</td>\n",
       "    </tr>\n",
       "    <tr>\n",
       "      <th>2</th>\n",
       "      <td>4.7</td>\n",
       "      <td>3.2</td>\n",
       "      <td>1.3</td>\n",
       "      <td>0.2</td>\n",
       "    </tr>\n",
       "    <tr>\n",
       "      <th>3</th>\n",
       "      <td>4.6</td>\n",
       "      <td>3.1</td>\n",
       "      <td>1.5</td>\n",
       "      <td>0.2</td>\n",
       "    </tr>\n",
       "    <tr>\n",
       "      <th>4</th>\n",
       "      <td>5.0</td>\n",
       "      <td>3.6</td>\n",
       "      <td>1.4</td>\n",
       "      <td>0.2</td>\n",
       "    </tr>\n",
       "  </tbody>\n",
       "</table>\n",
       "</div>"
      ],
      "text/plain": [
       "   sepal length (cm)  sepal width (cm)  petal length (cm)  petal width (cm)\n",
       "0                5.1               3.5                1.4               0.2\n",
       "1                4.9               3.0                1.4               0.2\n",
       "2                4.7               3.2                1.3               0.2\n",
       "3                4.6               3.1                1.5               0.2\n",
       "4                5.0               3.6                1.4               0.2"
      ]
     },
     "execution_count": 11,
     "metadata": {},
     "output_type": "execute_result"
    }
   ],
   "source": [
    "iris_df = pd.DataFrame(iris.data, columns=iris.feature_names)\n",
    "iris_df.head()"
   ]
  },
  {
   "cell_type": "code",
   "execution_count": 12,
   "metadata": {},
   "outputs": [
    {
     "name": "stdout",
     "output_type": "stream",
     "text": [
      "<class 'pandas.core.frame.DataFrame'>\n",
      "RangeIndex: 150 entries, 0 to 149\n",
      "Data columns (total 4 columns):\n",
      "sepal length (cm)    150 non-null float64\n",
      "sepal width (cm)     150 non-null float64\n",
      "petal length (cm)    150 non-null float64\n",
      "petal width (cm)     150 non-null float64\n",
      "dtypes: float64(4)\n",
      "memory usage: 4.8 KB\n",
      "None\n"
     ]
    }
   ],
   "source": [
    "print(iris_df.info())"
   ]
  },
  {
   "cell_type": "markdown",
   "metadata": {},
   "source": [
    "**Таким образом имеем датасет из 150 объектов с 4 признаками. Задача - понизить размерность признакового пространства.**"
   ]
  },
  {
   "cell_type": "markdown",
   "metadata": {},
   "source": [
    "**Сначала сформируем матрицу признаков:**"
   ]
  },
  {
   "cell_type": "code",
   "execution_count": 13,
   "metadata": {},
   "outputs": [
    {
     "name": "stdout",
     "output_type": "stream",
     "text": [
      "размерность матрицы A: (150, 4)\n",
      "\n",
      "первые 10 строк матрицы A:\n",
      "[[5.1 3.5 1.4 0.2]\n",
      " [4.9 3.  1.4 0.2]\n",
      " [4.7 3.2 1.3 0.2]\n",
      " [4.6 3.1 1.5 0.2]\n",
      " [5.  3.6 1.4 0.2]\n",
      " [5.4 3.9 1.7 0.4]\n",
      " [4.6 3.4 1.4 0.3]\n",
      " [5.  3.4 1.5 0.2]\n",
      " [4.4 2.9 1.4 0.2]\n",
      " [4.9 3.1 1.5 0.1]]\n"
     ]
    }
   ],
   "source": [
    "A = np.array(iris.data)\n",
    "print(f'размерность матрицы A: {A.shape}\\n')\n",
    "print(f'первые 10 строк матрицы A:\\n{A[:10]}')"
   ]
  },
  {
   "cell_type": "markdown",
   "metadata": {},
   "source": [
    "**Теперь найдем ее сингулярное разложение:**"
   ]
  },
  {
   "cell_type": "code",
   "execution_count": 14,
   "metadata": {},
   "outputs": [],
   "source": [
    "U, s, W = np.linalg.svd(A)"
   ]
  },
  {
   "cell_type": "markdown",
   "metadata": {},
   "source": [
    "**Матрицы U, V, D для нашей матрицы признаков будут иметь вид:**"
   ]
  },
  {
   "cell_type": "code",
   "execution_count": 15,
   "metadata": {},
   "outputs": [
    {
     "name": "stdout",
     "output_type": "stream",
     "text": [
      "размерность матрицы U: (150, 150)\n",
      "\n",
      "первые 5 строк матрицы U:\n",
      "[[-6.16168450e-02  1.29611444e-01  2.13859674e-03 ... -9.34342947e-02\n",
      "  -9.57386428e-02 -8.08546526e-02]\n",
      " [-5.80709402e-02  1.11019776e-01  7.06723871e-02 ...  3.69040455e-02\n",
      "  -3.15395377e-02  1.30952570e-02]\n",
      " [-5.67630474e-02  1.17966465e-01  4.34254909e-03 ...  3.06619920e-02\n",
      "   1.95314726e-01  1.35699085e-01]\n",
      " ...\n",
      " [-6.09726328e-02  1.20943120e-01  5.43026565e-03 ...  1.48171311e-03\n",
      "   1.63896017e-04 -7.67673070e-04]\n",
      " [-5.37611959e-02  9.99414853e-02  1.76366479e-02 ...  1.15951027e-03\n",
      "   2.55054321e-03  5.91830330e-04]\n",
      " [-5.88266594e-02  1.12043088e-01  6.49689136e-02 ...  4.02649514e-03\n",
      "   1.29417958e-02  4.14110180e-03]]\n"
     ]
    }
   ],
   "source": [
    "print(f'размерность матрицы U: {U.shape}\\n')\n",
    "print(f'первые 5 строк матрицы U:\\n{U[:10]}')"
   ]
  },
  {
   "cell_type": "code",
   "execution_count": 16,
   "metadata": {},
   "outputs": [
    {
     "name": "stdout",
     "output_type": "stream",
     "text": [
      "размерность матрицы V: (4, 4)\n",
      "\n",
      "матрица V:\n",
      "[[-0.75110816  0.2841749   0.50215472  0.32081425]\n",
      " [-0.38008617  0.5467445  -0.67524332 -0.31725607]\n",
      " [-0.51300886 -0.70866455 -0.05916621 -0.48074507]\n",
      " [-0.16790754 -0.34367081 -0.53701625  0.75187165]]\n"
     ]
    }
   ],
   "source": [
    "V = W.T\n",
    "print(f'размерность матрицы V: {V.shape}\\n')\n",
    "print(f'матрица V:\\n{V}')"
   ]
  },
  {
   "cell_type": "code",
   "execution_count": 17,
   "metadata": {},
   "outputs": [
    {
     "name": "stdout",
     "output_type": "stream",
     "text": [
      "размерность матрицы D: (150, 4)\n",
      "\n",
      "первые 5 строк матрицы D:\n",
      "[[95.95991387  0.          0.          0.        ]\n",
      " [ 0.         17.76103366  0.          0.        ]\n",
      " [ 0.          0.          3.46093093  0.        ]\n",
      " [ 0.          0.          0.          1.88482631]\n",
      " [ 0.          0.          0.          0.        ]]\n"
     ]
    }
   ],
   "source": [
    "D = np.zeros_like(A, dtype=float)\n",
    "D[np.diag_indices(min(A.shape))] = s\n",
    "print(f'размерность матрицы D: {D.shape}\\n')\n",
    "print(f'первые 5 строк матрицы D:\\n{D[:5]}')"
   ]
  },
  {
   "cell_type": "markdown",
   "metadata": {},
   "source": [
    "**Посмотрим на корреляцию между признаками, разделив значения матрицы D на евклидову норму:**"
   ]
  },
  {
   "cell_type": "code",
   "execution_count": 18,
   "metadata": {},
   "outputs": [
    {
     "name": "stdout",
     "output_type": "stream",
     "text": [
      "размерность матрицы cor_D: (150, 4)\n",
      "\n",
      "первые 5 строк матрицы cor_D:\n",
      "[[1.         0.         0.         0.        ]\n",
      " [0.         0.18508805 0.         0.        ]\n",
      " [0.         0.         0.03606642 0.        ]\n",
      " [0.         0.         0.         0.01964181]\n",
      " [0.         0.         0.         0.        ]]\n"
     ]
    }
   ],
   "source": [
    "d = [D[0][0]/D[0][0], D[1][1]/D[0][0], D[2][2]/D[0][0], D[3][3]/D[0][0]]\n",
    "cor_D = np.zeros_like(A, dtype=float)\n",
    "cor_D[np.diag_indices(min(D.shape))] = d\n",
    "print(f'размерность матрицы cor_D: {cor_D.shape}\\n')\n",
    "print(f'первые 5 строк матрицы cor_D:\\n{cor_D[:5]}')"
   ]
  },
  {
   "cell_type": "markdown",
   "metadata": {},
   "source": [
    "**Создадим на основе матрицы D новую матрицу собственных значений D_new и исключим из нее два значения, обозначающих наименьшую корреляцию между признаками:**"
   ]
  },
  {
   "cell_type": "code",
   "execution_count": 19,
   "metadata": {},
   "outputs": [
    {
     "name": "stdout",
     "output_type": "stream",
     "text": [
      "размерность матрицы D_new: (150, 4)\n",
      "\n",
      "первые 5 строк матрицы D_new:\n",
      "[[95.95991387  0.          0.          0.        ]\n",
      " [ 0.         17.76103366  0.          0.        ]\n",
      " [ 0.          0.          0.          0.        ]\n",
      " [ 0.          0.          0.          0.        ]\n",
      " [ 0.          0.          0.          0.        ]]\n"
     ]
    }
   ],
   "source": [
    "D_new = D\n",
    "D_new[2][2], D_new[3][3] = 0, 0\n",
    "print(f'размерность матрицы D_new: {D_new.shape}\\n')\n",
    "print(f'первые 5 строк матрицы D_new:\\n{D_new[:5]}')"
   ]
  },
  {
   "cell_type": "markdown",
   "metadata": {},
   "source": [
    "**Сформируем новую матрицу признаков A_new на основе новой матрицы собственных значений D_new путем операции, обратной сингулярному разложению:**"
   ]
  },
  {
   "cell_type": "code",
   "execution_count": 20,
   "metadata": {},
   "outputs": [
    {
     "name": "stdout",
     "output_type": "stream",
     "text": [
      "размерность матрицы A_new: (150, 4)\n",
      "\n",
      "первые 10 строк матрицы A_new:\n",
      "[[5.0952927  3.50597743 1.40192232 0.20165319]\n",
      " [4.74588049 3.19610853 1.46136967 0.25800276]\n",
      " [4.68667405 3.21586325 1.30954904 0.19452725]\n",
      " [4.61488457 3.08894388 1.46347879 0.27002699]\n",
      " [5.07488651 3.50623125 1.36428119 0.1863997 ]\n",
      " [5.52598407 3.7330351  1.67566825 0.28872322]\n",
      " [4.731593   3.2288014  1.36216771 0.21446447]\n",
      " [5.00510918 3.39830515 1.47931372 0.24418439]\n",
      " [4.37933538 2.93134058 1.38864652 0.25618379]\n",
      " [4.80551481 3.23360903 1.48569239 0.26393296]]\n",
      "\n",
      "первые 10 строк матрицы A:\n",
      "[[5.1 3.5 1.4 0.2]\n",
      " [4.9 3.  1.4 0.2]\n",
      " [4.7 3.2 1.3 0.2]\n",
      " [4.6 3.1 1.5 0.2]\n",
      " [5.  3.6 1.4 0.2]\n",
      " [5.4 3.9 1.7 0.4]\n",
      " [4.6 3.4 1.4 0.3]\n",
      " [5.  3.4 1.5 0.2]\n",
      " [4.4 2.9 1.4 0.2]\n",
      " [4.9 3.1 1.5 0.1]]\n"
     ]
    }
   ],
   "source": [
    "A_new = np.dot(np.dot(U, D_new), V.T)\n",
    "print(f'размерность матрицы A_new: {A_new.shape}\\n')\n",
    "print(f'первые 10 строк матрицы A_new:\\n{A_new[:10]}\\n')\n",
    "print(f'первые 10 строк матрицы A:\\n{A[:10]}')"
   ]
  },
  {
   "cell_type": "markdown",
   "metadata": {},
   "source": [
    "**Избавимся от \"лишних\" признаков, умножив матрицу A_new на матрицу перехода V:**"
   ]
  },
  {
   "cell_type": "code",
   "execution_count": 21,
   "metadata": {},
   "outputs": [
    {
     "name": "stdout",
     "output_type": "stream",
     "text": [
      "размерность матрицы X: (150, 4)\n",
      "\n",
      "первые 10 строк матрицы X:\n",
      "[[-5.91274714e+00  2.30203322e+00 -8.60422844e-16 -8.88178420e-16]\n",
      " [-5.57248242e+00  1.97182599e+00 -4.99600361e-16 -5.55111512e-16]\n",
      " [-5.44697714e+00  2.09520636e+00 -6.10622664e-16 -7.77156117e-16]\n",
      " [-5.43645948e+00  1.87038151e+00 -6.10622664e-16 -5.55111512e-16]\n",
      " [-5.87564494e+00  2.32829018e+00 -1.66533454e-16 -7.77156117e-16]\n",
      " [-6.47759822e+00  2.32464996e+00 -8.32667268e-16 -9.99200722e-16]\n",
      " [-5.51597520e+00  2.07090423e+00 -1.11022302e-16 -7.77156117e-16]\n",
      " [-5.85092859e+00  2.14807482e+00 -6.66133815e-16 -7.77156117e-16]\n",
      " [-5.15891972e+00  1.77506408e+00 -3.88578059e-16 -5.55111512e-16]\n",
      " [-5.64500117e+00  1.99000106e+00 -9.99200722e-16 -6.66133815e-16]]\n",
      "\n"
     ]
    }
   ],
   "source": [
    "X = np.dot(A_new, V)\n",
    "print(f'размерность матрицы X: {X.shape}\\n')\n",
    "print(f'первые 10 строк матрицы X:\\n{X[:10]}\\n')"
   ]
  },
  {
   "cell_type": "markdown",
   "metadata": {},
   "source": [
    "**Таким образом, мы сократили исходное признаковое пространство с 4 до 2**"
   ]
  }
 ],
 "metadata": {
  "kernelspec": {
   "display_name": "Python 3",
   "language": "python",
   "name": "python3"
  },
  "language_info": {
   "codemirror_mode": {
    "name": "ipython",
    "version": 3
   },
   "file_extension": ".py",
   "mimetype": "text/x-python",
   "name": "python",
   "nbconvert_exporter": "python",
   "pygments_lexer": "ipython3",
   "version": "3.7.3"
  }
 },
 "nbformat": 4,
 "nbformat_minor": 2
}
