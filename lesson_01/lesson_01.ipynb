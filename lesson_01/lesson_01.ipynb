{
 "cells": [
  {
   "cell_type": "markdown",
   "metadata": {},
   "source": [
    "## Урок 1. Линейное пространство"
   ]
  },
  {
   "cell_type": "markdown",
   "metadata": {},
   "source": [
    "#### 1. Исследовать на линейную зависимость: f1(x)=e^x, f2(x)=1, f3(x)=x+1, f4(x)=x−e^x"
   ]
  },
  {
   "cell_type": "markdown",
   "metadata": {},
   "source": [
    "для того, чтобы некоторое множество элементов линейного пространства было линейно зависимым, необходимо и достаточно, чтобы один из этих элементов являлся линейной комбинацией остальных.\n",
    "\n",
    "f4(x) = f3(x) - f1(x) - f2(x)  \n",
    "\n",
    "**Вектор f4(x) является линейной комбинацией трех других. Отсюда вывод, что f1(x)=e^x, f2(x)=1, f3(x)=x+1, f4(x)=x−e^x линейно зависимы.**"
   ]
  },
  {
   "cell_type": "markdown",
   "metadata": {},
   "source": [
    "#### 2. Исследовать на линейную зависимость: f1(x)=2, f2(x)=x, f3(x)=x^2, f4(x)=(x+1)^2."
   ]
  },
  {
   "cell_type": "markdown",
   "metadata": {},
   "source": [
    "для того, чтобы некоторое множество элементов линейного пространства было линейно зависимым, необходимо и достаточно, чтобы один из этих элементов являлся линейной комбинацией остальных.\n",
    "\n",
    "f4(x) = f3(x) + 2*f2(x) + 0.5*f1(x)\n",
    "\n",
    "**Поскольку вектор f4(x) - линейная комбинация трех остальных векторов, то f1(x)=2, f2(x)=x, f3(x)=x^2, f4(x)=(x+1)^2 - линейно зависимы.**"
   ]
  },
  {
   "cell_type": "markdown",
   "metadata": {},
   "source": [
    "#### 3. Найти координаты вектора  x=(2,3,5) ∈ R3  в базисе  b1=(0,0,10) ,  b2=(2,0,0) ,  b3=(0,1,0) ."
   ]
  },
  {
   "cell_type": "markdown",
   "metadata": {},
   "source": [
    "x = 0.5 * b1 + b2 + 3 * b3  \n",
    "**x = (0.5, 1, 3)**"
   ]
  },
  {
   "cell_type": "markdown",
   "metadata": {},
   "source": [
    "#### 4. Найти координаты вектора  3x^2 − 2x + 2 ∈ R3[x] :\n",
    "\n",
    "а) в базисе  1 ,  x ,  x2 \n",
    "\n",
    "б) в базисе  x2 ,  x−1 ,  1 "
   ]
  },
  {
   "cell_type": "markdown",
   "metadata": {},
   "source": [
    "**а) x = (2, -2, 3)  \n",
    "б) 3*x^2 - 2*x + 2 = 3*x^2 - 2*(x - 1) + 0*1  \n",
    "x = (3, -2, 0)**"
   ]
  },
  {
   "cell_type": "markdown",
   "metadata": {},
   "source": [
    "#### 5. Установить, является ли линейным подпространством:\n",
    "\n",
    "а) совокупность всех векторов трехмерного пространства, у которых по крайней мере одна из первых двух координат равна нулю;\n",
    "\n",
    "б) все векторы, являющиеся линейными комбинациями данных векторов  {u1,u2,...,un} ."
   ]
  },
  {
   "cell_type": "markdown",
   "metadata": {},
   "source": [
    "Подмножество  L  линейного пространства  V  является его подпространством тогда и только тогда, когда для любых элементов  u,v∈L  и любого  α∈R  выполняются условия:\n",
    "\n",
    "1) u+v∈L; \n",
    "\n",
    "2) α⋅u∈L."
   ]
  },
  {
   "cell_type": "markdown",
   "metadata": {},
   "source": [
    "**а) можно взять два вектора. (a, 0, b) и (0, c, d) их сумма равна (a, c, b+d). Если, а и с не равны нулю, то получившийся вектор не лежит в данном множестве (где по крайней мере одна их первых двух координат равна нулю). Таким образом, совокупность всех векторов трехмерного пространства, у которых по крайней мере одна из первых двух координат равна нулю, не является линейным подпространством**"
   ]
  },
  {
   "cell_type": "markdown",
   "metadata": {},
   "source": [
    "**б)\n",
    "результаты операций u+v и α⋅u также будут являться линейными комбинациями заданных векторов {u1,u2,...,un}. Поэтому все векторы, являющиеся линейными комбинациями данных векторов {u1,u2,...,un}, будут линейным подпространством**"
   ]
  },
  {
   "cell_type": "markdown",
   "metadata": {},
   "source": [
    "#### 6. Найти скалярное произведение векторов  x,y∈R :\n",
    "а)  x=(0,−3,6), y=(−4,7,9);   \n",
    "б)  x=(7,−4,0,1), y=(−3,1,11,2)."
   ]
  },
  {
   "cell_type": "code",
   "execution_count": 1,
   "metadata": {},
   "outputs": [],
   "source": [
    "import numpy as np"
   ]
  },
  {
   "cell_type": "code",
   "execution_count": 2,
   "metadata": {},
   "outputs": [
    {
     "data": {
      "text/plain": [
       "33"
      ]
     },
     "execution_count": 2,
     "metadata": {},
     "output_type": "execute_result"
    }
   ],
   "source": [
    "x = np.array([0, -3, 6])\n",
    "y = np.array([-4, 7, 9])\n",
    "np.dot(x, y)"
   ]
  },
  {
   "cell_type": "code",
   "execution_count": 3,
   "metadata": {},
   "outputs": [
    {
     "data": {
      "text/plain": [
       "-23"
      ]
     },
     "execution_count": 3,
     "metadata": {},
     "output_type": "execute_result"
    }
   ],
   "source": [
    "x = np.array([7, -4, 0, 1])\n",
    "y = np.array([-3, 1, 11, 2])\n",
    "np.dot(x, y)"
   ]
  },
  {
   "cell_type": "markdown",
   "metadata": {},
   "source": [
    "#### 7. Найти нормы векторов  (4,2,4)  и  (12,3,4)  и угол между ними"
   ]
  },
  {
   "cell_type": "code",
   "execution_count": 4,
   "metadata": {},
   "outputs": [],
   "source": [
    "from numpy.linalg import norm"
   ]
  },
  {
   "cell_type": "code",
   "execution_count": 5,
   "metadata": {},
   "outputs": [],
   "source": [
    "a = np.array([4, 2, 4])\n",
    "b = np.array([12, 3, 4])"
   ]
  },
  {
   "cell_type": "code",
   "execution_count": 6,
   "metadata": {},
   "outputs": [
    {
     "name": "stdout",
     "output_type": "stream",
     "text": [
      "10.0 6.0\n"
     ]
    }
   ],
   "source": [
    "print(norm(a, ord=1), norm(a, ord=2))"
   ]
  },
  {
   "cell_type": "code",
   "execution_count": 7,
   "metadata": {},
   "outputs": [
    {
     "name": "stdout",
     "output_type": "stream",
     "text": [
      "19.0 13.0\n"
     ]
    }
   ],
   "source": [
    "print(norm(b, ord=1), norm(b, ord=2))"
   ]
  },
  {
   "cell_type": "code",
   "execution_count": 8,
   "metadata": {},
   "outputs": [
    {
     "data": {
      "text/plain": [
       "0.46"
      ]
     },
     "execution_count": 8,
     "metadata": {},
     "output_type": "execute_result"
    }
   ],
   "source": [
    "cos_phi = np.dot(a, b) / (norm(a) * norm(b))\n",
    "round(np.arccos(cos_phi), 2)"
   ]
  },
  {
   "cell_type": "markdown",
   "metadata": {},
   "source": [
    "#### 8. Будет ли линейное пространство евклидовым, если за скалярное произведение принять:\n",
    "а) произведение длин векторов;  \n",
    "б) утроенное обычное скалярное произведение векторов?"
   ]
  },
  {
   "cell_type": "markdown",
   "metadata": {},
   "source": [
    "Линейное пространство над полем вещественных чисел называется евклидовым пространством, если на нем введено правило, согласно которому каждой упорядоченной паре векторов  x  и  y  поставлено в соответствие вещественное число, называемое скалярным произведением и обозначаемое символом  (x,y) .\n",
    "\n",
    "При этом указанное правило должно подчиняться четырем аксиомам:  \n",
    "1)  (x,y)=(y,x);   \n",
    "2)  (λx,y)=λ(x,y);   \n",
    "3)  (x1+x2,y)=(x1,y)+(x2,y);   \n",
    "4)  (x,x)≥0 , причем  (x,x)=0⇔x=0."
   ]
  },
  {
   "cell_type": "markdown",
   "metadata": {},
   "source": [
    "**а) Нет. Так как нарушатся 2я и 3я аксиомы. Например, (x1+x2,y)=(x1,y)+(x2,y) будет выполняться только в случае если x1 и x2 коллинеарны. В противном случае норма от x1+x2 будет меньше, чем нормы от этих векторов по отдельности.**"
   ]
  },
  {
   "cell_type": "markdown",
   "metadata": {},
   "source": [
    "**б) Да. Так как выполняются все 4 аксиомы.**"
   ]
  },
  {
   "cell_type": "markdown",
   "metadata": {},
   "source": [
    "#### 9. Какие из нижеперечисленных векторов образуют ортонормированный базис в линейном пространстве  R3 :\n",
    "а)  (1,0,0),(0,0,1);   \n",
    "б)  (1/√2,−1/√2,0),(1/√2,1/√2,0),(0,0,1);   \n",
    "в)  (1/2,−1/2,0),(0,1/2,1/2),(0,0,1);   \n",
    "г)  (1,0,0),(0,1,0),(0,0,1)?"
   ]
  },
  {
   "cell_type": "markdown",
   "metadata": {},
   "source": [
    "В конечномерном евклидовом пространстве базис  {e1,e2,...,en}  называется ортонормированным, если (ei,ej)=0   ∀   i≠j  и  (ei,ei)=1   ∀   i∈[1,n].  \n",
    "Это означает, что ортонормированный базис является ортогональным и состоит из векторов единичной длины."
   ]
  },
  {
   "cell_type": "code",
   "execution_count": 9,
   "metadata": {},
   "outputs": [
    {
     "name": "stdout",
     "output_type": "stream",
     "text": [
      "0 1.0 1.0\n"
     ]
    }
   ],
   "source": [
    "x = np.array([1, 0, 0])\n",
    "y = np.array([0, 0, 1])\n",
    "print(np.dot(x, y), norm(x), norm(y))"
   ]
  },
  {
   "cell_type": "code",
   "execution_count": 10,
   "metadata": {},
   "outputs": [
    {
     "name": "stdout",
     "output_type": "stream",
     "text": [
      "0.0 0.0 0.0\n",
      "0.9999999999999999 0.9999999999999999 1.0\n"
     ]
    }
   ],
   "source": [
    "x = np.array([1 / 2**0.5, -1 / 2**0.5, 0])\n",
    "y = np.array([1 / 2**0.5, 1 / 2**0.5, 0])\n",
    "z = np.array([0, 0, 1])\n",
    "print(np.dot(x, y), np.dot(x, z), np.dot(y, z))\n",
    "print(norm(x), norm(y), norm(z))"
   ]
  },
  {
   "cell_type": "code",
   "execution_count": 11,
   "metadata": {},
   "outputs": [
    {
     "name": "stdout",
     "output_type": "stream",
     "text": [
      "-0.25 0.0 0.5\n",
      "0.7071067811865476 0.7071067811865476 1.0\n"
     ]
    }
   ],
   "source": [
    "x = np.array([0.5, -0.5, 0])\n",
    "y = np.array([0, 0.5, 0.5])\n",
    "z = np.array([0, 0, 1])\n",
    "print(np.dot(x, y), np.dot(x, z), np.dot(y, z))\n",
    "print(norm(x), norm(y), norm(z))"
   ]
  },
  {
   "cell_type": "code",
   "execution_count": 12,
   "metadata": {},
   "outputs": [
    {
     "name": "stdout",
     "output_type": "stream",
     "text": [
      "0 0 0\n",
      "1.0 1.0 1.0\n"
     ]
    }
   ],
   "source": [
    "x = np.array([1, 0, 0])\n",
    "y = np.array([0, 1, 0])\n",
    "z = np.array([0, 0, 1])\n",
    "print(np.dot(x, y), np.dot(x, z), np.dot(y, z))\n",
    "print(norm(x), norm(y), norm(z))"
   ]
  },
  {
   "cell_type": "markdown",
   "metadata": {},
   "source": [
    "**Ответ: б) г)  \n",
    "в пункте а) недостаточно векторов для базиса трехмерного пространства (через 2 вектора невозможно выразить любой вектор трехмерного пространства).**"
   ]
  }
 ],
 "metadata": {
  "kernelspec": {
   "display_name": "Python 3",
   "language": "python",
   "name": "python3"
  },
  "language_info": {
   "codemirror_mode": {
    "name": "ipython",
    "version": 3
   },
   "file_extension": ".py",
   "mimetype": "text/x-python",
   "name": "python",
   "nbconvert_exporter": "python",
   "pygments_lexer": "ipython3",
   "version": "3.7.3"
  }
 },
 "nbformat": 4,
 "nbformat_minor": 2
}
